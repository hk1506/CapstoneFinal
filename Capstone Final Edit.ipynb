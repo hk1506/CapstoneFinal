{
 "cells": [
  {
   "cell_type": "markdown",
   "metadata": {},
   "source": [
    "# Leading Causes of Death in New York City\n",
    "#### Although death is the end of a life, it can provide useful information to doctors, researchers, and regular people, like you and me. When a person passes, there are many questions that arise: “who died?”, “why did this person pass?”, “when did he/she pass?”. All of these questions help doctors and researchers do improve their jobs. \n",
    "#### Between 2007 to 2014, the government collected hospital records that recorded the leading causes of death in New York City. It recorded the year, leading cause of death, gender, the total number of deaths within the leading cause, death rate, and the adjusted age of the person. \n",
    "#### Based on this data, I was curious to see if the death rate in NYC decreased over the years. Of course, there are many factor that contribute to this factor such as: “is healthcare improving?”, “how is technology contributing to wellbeing?”, “Is crime related?” \n"
   ]
  },
  {
   "cell_type": "code",
   "execution_count": 1,
   "metadata": {},
   "outputs": [],
   "source": [
    "import pandas as pd\n",
    "import numpy as np\n",
    "import matplotlib.pyplot as plt\n",
    "\n",
    "#reading file\n",
    "death = pd.read_csv('causeofdeath.csv')\n",
    "%matplotlib inline"
   ]
  },
  {
   "cell_type": "code",
   "execution_count": 2,
   "metadata": {},
   "outputs": [],
   "source": [
    "# if the cell is '.', change to 0. Found that the data had periods in place of numbers. \n",
    "## Rather than removing them, I added zeros based on the other numbers, the categories with periods had low values. \n",
    "badvalues = death.loc[:,'Deaths'] ==\".\"\n",
    "death.loc[badvalues,'Deaths']=0\n",
    "\n",
    "#this changes the string into floats \n",
    "death['Deaths'] = death['Deaths'].astype(str).astype(float)"
   ]
  },
  {
   "cell_type": "code",
   "execution_count": 3,
   "metadata": {},
   "outputs": [],
   "source": [
    "grouped_df = death.groupby(['Year'])['Deaths'].sum()\n",
    "grouped_year = death.groupby(['Year'])"
   ]
  },
  {
   "cell_type": "code",
   "execution_count": 4,
   "metadata": {},
   "outputs": [
    {
     "data": {
      "image/png": "[encoded data removed]",
      "text/plain": [
       "<matplotlib.figure.Figure at 0x110fadf60>"
      ]
     },
     "metadata": {},
     "output_type": "display_data"
    }
   ],
   "source": [
    "plt.plot(grouped_df)\n",
    "plt.ylim([52000, 55000])\n",
    "plt.ylabel('Deaths')\n",
    "plt.xlabel('Year')\n",
    "plt.title('Total Deaths per Year')\n",
    "plt.show()"
   ]
  },
  {
   "cell_type": "markdown",
   "metadata": {},
   "source": [
    "## Over the years, has there been a decrease in deaths?\n",
    "\n",
    "#### Based on the graph above, it looks like there's a general decrease in the total number of deaths. However if we look closer by computing the mean, we find that there was a dip in deaths in 2011, followed by an increase the following years. "
   ]
  },
  {
   "cell_type": "code",
   "execution_count": 5,
   "metadata": {},
   "outputs": [],
   "source": [
    "death_mean = death.groupby(['Year'])['Deaths'].mean()"
   ]
  },
  {
   "cell_type": "code",
   "execution_count": 6,
   "metadata": {},
   "outputs": [
    {
     "data": {
      "text/plain": [
       "Text(0.5,1,'Total Deaths per Year')"
      ]
     },
     "execution_count": 6,
     "metadata": {},
     "output_type": "execute_result"
    },
    {
     "data": {
      "image/png": "[encoded data removed]",
      "text/plain": [
       "<matplotlib.figure.Figure at 0x1110ac240>"
      ]
     },
     "metadata": {},
     "output_type": "display_data"
    }
   ],
   "source": [
    "death_mean.plot(color='blue')\n",
    "plt.ylim([360, 420])\n",
    "plt.ylabel('Deaths')\n",
    "plt.xlabel('Year')\n",
    "plt.title('Total Deaths per Year')"
   ]
  },
  {
   "cell_type": "markdown",
   "metadata": {},
   "source": [
    "#### As seen in this graph, the average number of deaths in NYC in 2008 and 2013 were very close. "
   ]
  },
  {
   "cell_type": "code",
   "execution_count": 7,
   "metadata": {},
   "outputs": [
    {
     "data": {
      "text/plain": [
       "count      8.000000\n",
       "mean     388.630933\n",
       "std        9.115733\n",
       "min      373.943262\n",
       "25%      382.330520\n",
       "50%      390.472015\n",
       "75%      392.962827\n",
       "max      401.406015\n",
       "Name: Deaths, dtype: float64"
      ]
     },
     "execution_count": 7,
     "metadata": {},
     "output_type": "execute_result"
    }
   ],
   "source": [
    "death_mean.describe()"
   ]
  },
  {
   "cell_type": "code",
   "execution_count": 8,
   "metadata": {},
   "outputs": [
    {
     "data": {
      "text/plain": [
       "Leading Cause\n",
       "Diseases of Heart (I00-I09, I11, I13, I20-I51)                                                                                       147551.0\n",
       "Malignant Neoplasms (Cancer: C00-C97)                                                                                                106367.0\n",
       "All Other Causes                                                                                                                      77999.0\n",
       "Influenza (Flu) and Pneumonia (J09-J18)                                                                                               18678.0\n",
       "Diabetes Mellitus (E10-E14)                                                                                                           13794.0\n",
       "Chronic Lower Respiratory Diseases (J40-J47)                                                                                          13214.0\n",
       "Cerebrovascular Disease (Stroke: I60-I69)                                                                                             12941.0\n",
       "Accidents Except Drug Posioning (V01-X39, X43, X45-X59, Y85-Y86)                                                                       7467.0\n",
       "Essential Hypertension and Renal Diseases (I10, I12)                                                                                   6955.0\n",
       "Human Immunodeficiency Virus Disease (HIV: B20-B24)                                                                                    5436.0\n",
       "Mental and Behavioral Disorders due to Accidental Poisoning and Other Psychoactive Substance Use (F11-F16, F18-F19, X40-X42, X44)      4284.0\n",
       "Alzheimer's Disease (G30)                                                                                                              2980.0\n",
       "Assault (Homicide: Y87.1, X85-Y09)                                                                                                     2102.0\n",
       "Intentional Self-Harm (Suicide: X60-X84, Y87.0)                                                                                        2086.0\n",
       "Chronic Liver Disease and Cirrhosis (K70, K73)                                                                                         1505.0\n",
       "Nephritis, Nephrotic Syndrome and Nephrisis (N00-N07, N17-N19, N25-N27)                                                                 753.0\n",
       "Septicemia (A40-A41)                                                                                                                    641.0\n",
       "Certain Conditions originating in the Perinatal Period (P00-P96)                                                                        197.0\n",
       "Congenital Malformations, Deformations, and Chromosomal Abnormalities (Q00-Q99)                                                          22.0\n",
       "Viral Hepatitis (B15-B19)                                                                                                                21.0\n",
       "Insitu or Benign / Uncertain Neoplasms (D00-D48)                                                                                          5.0\n",
       "Aortic Aneurysm and Dissection (I71)                                                                                                      0.0\n",
       "Atherosclerosis (I70)                                                                                                                     0.0\n",
       "Mental and Behavioral Disorders due to Use of Alcohol (F10)                                                                               0.0\n",
       "Parkinson's Disease (G20)                                                                                                                 0.0\n",
       "Tuberculosis (A16-A19)                                                                                                                    0.0\n",
       "Name: Deaths, dtype: float64"
      ]
     },
     "execution_count": 8,
     "metadata": {},
     "output_type": "execute_result"
    }
   ],
   "source": [
    "#List the leading causes of death\n",
    "death.groupby('Leading Cause')['Deaths'].sum().nlargest(100)"
   ]
  },
  {
   "cell_type": "markdown",
   "metadata": {},
   "source": [
    "## Is there a relationship between genders and the cause of death?\n",
    "\n",
    "#### I continued to dig around and wondered if there was a relationship between gender and the leading cause of death. And I found that in some cases there was a relationship. "
   ]
  },
  {
   "cell_type": "code",
   "execution_count": 9,
   "metadata": {},
   "outputs": [],
   "source": [
    "df_heart = death[death['Leading Cause'] == 'Diseases of Heart (I00-I09, I11, I13, I20-I51)']\n",
    "female_heart = df_heart[df_heart['Sex'] == 'F']\n",
    "male_heart = df_heart[df_heart['Sex'] =='M']\n",
    "grouped_fyear = female_heart.groupby('Year').sum()\n",
    "grouped_myear = male_heart.groupby('Year').sum()"
   ]
  },
  {
   "cell_type": "code",
   "execution_count": 10,
   "metadata": {},
   "outputs": [
    {
     "data": {
      "image/png": "[encoded data removed]",
      "text/plain": [
       "<matplotlib.figure.Figure at 0x111327748>"
      ]
     },
     "metadata": {},
     "output_type": "display_data"
    }
   ],
   "source": [
    "plt.plot(grouped_fyear, color='red')\n",
    "plt.plot(grouped_myear, color='blue')\n",
    "plt.ylim([6000, 12000])\n",
    "plt.ylabel('Total Deaths')\n",
    "plt.xlabel('Year')\n",
    "plt.title('\"Diseases of Heart\": Total Deaths per Year')\n",
    "plt.show()"
   ]
  },
  {
   "cell_type": "markdown",
   "metadata": {},
   "source": [
    "#### I organized my list of causes of death by the total number of deaths. Between 2007 and 2014, the top leading cause of death was diseases of the heart. To my surprise, I found that more women passed away from heart related diseases than men. Based on what's seen on the media, I assumed males would have a higher total. \n",
    "\n",
    "### However, overall, there is a general trend in the total deaths in this category. "
   ]
  },
  {
   "cell_type": "code",
   "execution_count": 11,
   "metadata": {},
   "outputs": [],
   "source": [
    "df_cause = death[death['Leading Cause'] == 'All Other Causes']\n",
    "female_cause = df_cause[df_cause['Sex'] == 'F']\n",
    "male_cause = df_cause[df_cause['Sex'] =='M']\n",
    "grouped_fcyear = female_cause.groupby('Year').sum()\n",
    "grouped_mcyear = male_cause.groupby('Year').sum()"
   ]
  },
  {
   "cell_type": "code",
   "execution_count": 12,
   "metadata": {},
   "outputs": [
    {
     "data": {
      "image/png": "[encoded data removed]",
      "text/plain": [
       "<matplotlib.figure.Figure at 0x11133aa20>"
      ]
     },
     "metadata": {},
     "output_type": "display_data"
    }
   ],
   "source": [
    "plt.plot(grouped_fcyear, color='red')\n",
    "plt.plot(grouped_mcyear, color='blue')\n",
    "plt.ylim([3000, 6500])\n",
    "plt.ylabel('Deaths')\n",
    "plt.xlabel('Year')\n",
    "plt.title('\"All other Causes\":Total Deaths per Year')\n",
    "plt.show()"
   ]
  },
  {
   "cell_type": "markdown",
   "metadata": {},
   "source": [
    "#### I next looked at the third largest category. I was specifically interested in this category due to its vague title. From the looks of it, it seems as though there was an increase. It's difficult to conclude any solid information. However this is something future researchers can look into. Why is it that a category as specific as 'Mental and Behavioral Disorders due to Use of Alcohol' get its own section and other causes of death are lumped into one? "
   ]
  },
  {
   "cell_type": "code",
   "execution_count": 13,
   "metadata": {},
   "outputs": [],
   "source": [
    "df_allharm = death[death['Leading Cause'] == 'Intentional Self-Harm (Suicide: X60-X84, Y87.0)']\n",
    "female_harm = df_allharm[df_allharm['Sex'] == 'F']\n",
    "male_harm = df_allharm[df_allharm['Sex'] =='M']\n",
    "grouped_frace = female_harm.groupby('Year').sum()\n",
    "grouped_mrace = male_harm.groupby('Year').sum()"
   ]
  },
  {
   "cell_type": "code",
   "execution_count": 14,
   "metadata": {},
   "outputs": [
    {
     "data": {
      "image/png": "[encoded data removed]",
      "text/plain": [
       "<matplotlib.figure.Figure at 0x1111ff048>"
      ]
     },
     "metadata": {},
     "output_type": "display_data"
    }
   ],
   "source": [
    "plt.plot(grouped_frace, color='red')\n",
    "plt.plot(grouped_mrace, color='blue')\n",
    "plt.ylim([0, 300])\n",
    "plt.ylabel('Total Deaths')\n",
    "plt.xlabel('Year')\n",
    "plt.title('\"Intentional Self-Harm\": Total Deaths per Year')\n",
    "plt.show()"
   ]
  },
  {
   "cell_type": "markdown",
   "metadata": {},
   "source": [
    "#### I found this specifc graph to be interesting due the large difference within genders. Based on the graph, more males died of self harm than females. I would have thought it would be the other way around. If possible, I'm interested in seeing if males had simliar reasons to harm themselves. "
   ]
  },
  {
   "cell_type": "markdown",
   "metadata": {},
   "source": [
    "### Lastly, I was curious as to what the numeric values were for cancer. Has the deaths related to cancer gone down? "
   ]
  },
  {
   "cell_type": "code",
   "execution_count": 16,
   "metadata": {},
   "outputs": [],
   "source": [
    "df_cancer = death[death['Leading Cause'] == 'Malignant Neoplasms (Cancer: C00-C97)']\n",
    "female_cancer = df_cancer[df_cancer['Sex'] == 'F']\n",
    "male_cancer = df_cancer[df_cancer['Sex'] =='M']\n",
    "grouped_frace = female_cancer.groupby('Year').sum()\n",
    "grouped_mrace = male_cancer.groupby('Year').sum()"
   ]
  },
  {
   "cell_type": "code",
   "execution_count": 20,
   "metadata": {},
   "outputs": [
    {
     "data": {
      "image/png": "[encoded data removed]",
      "text/plain": [
       "<matplotlib.figure.Figure at 0x111c6db00>"
      ]
     },
     "metadata": {},
     "output_type": "display_data"
    }
   ],
   "source": [
    "plt.plot(grouped_frace, color='red')\n",
    "plt.plot(grouped_mrace, color='blue')\n",
    "plt.ylim([2000, 10000])\n",
    "plt.ylabel('Total Deaths')\n",
    "plt.xlabel('Year')\n",
    "plt.title('\"Malignant Neoplasms\": Total Deaths per Year')\n",
    "plt.show()"
   ]
  },
  {
   "cell_type": "markdown",
   "metadata": {},
   "source": []
  },
  {
   "cell_type": "code",
   "execution_count": 22,
   "metadata": {},
   "outputs": [
    {
     "data": {
      "text/html": [
       "<div>\n",
       "<style scoped>\n",
       "    .dataframe tbody tr th:only-of-type {\n",
       "        vertical-align: middle;\n",
       "    }\n",
       "\n",
       "    .dataframe tbody tr th {\n",
       "        vertical-align: top;\n",
       "    }\n",
       "\n",
       "    .dataframe thead th {\n",
       "        text-align: right;\n",
       "    }\n",
       "</style>\n",
       "<table border=\"1\" class=\"dataframe\">\n",
       "  <thead>\n",
       "    <tr style=\"text-align: right;\">\n",
       "      <th></th>\n",
       "      <th>Deaths</th>\n",
       "    </tr>\n",
       "  </thead>\n",
       "  <tbody>\n",
       "    <tr>\n",
       "      <th>count</th>\n",
       "      <td>8.000000</td>\n",
       "    </tr>\n",
       "    <tr>\n",
       "      <th>mean</th>\n",
       "      <td>6734.625000</td>\n",
       "    </tr>\n",
       "    <tr>\n",
       "      <th>std</th>\n",
       "      <td>96.141172</td>\n",
       "    </tr>\n",
       "    <tr>\n",
       "      <th>min</th>\n",
       "      <td>6569.000000</td>\n",
       "    </tr>\n",
       "    <tr>\n",
       "      <th>25%</th>\n",
       "      <td>6702.000000</td>\n",
       "    </tr>\n",
       "    <tr>\n",
       "      <th>50%</th>\n",
       "      <td>6741.500000</td>\n",
       "    </tr>\n",
       "    <tr>\n",
       "      <th>75%</th>\n",
       "      <td>6787.500000</td>\n",
       "    </tr>\n",
       "    <tr>\n",
       "      <th>max</th>\n",
       "      <td>6869.000000</td>\n",
       "    </tr>\n",
       "  </tbody>\n",
       "</table>\n",
       "</div>"
      ],
      "text/plain": [
       "            Deaths\n",
       "count     8.000000\n",
       "mean   6734.625000\n",
       "std      96.141172\n",
       "min    6569.000000\n",
       "25%    6702.000000\n",
       "50%    6741.500000\n",
       "75%    6787.500000\n",
       "max    6869.000000"
      ]
     },
     "execution_count": 22,
     "metadata": {},
     "output_type": "execute_result"
    }
   ],
   "source": [
    "grouped_frace.describe()"
   ]
  },
  {
   "cell_type": "code",
   "execution_count": 23,
   "metadata": {},
   "outputs": [
    {
     "data": {
      "text/html": [
       "<div>\n",
       "<style scoped>\n",
       "    .dataframe tbody tr th:only-of-type {\n",
       "        vertical-align: middle;\n",
       "    }\n",
       "\n",
       "    .dataframe tbody tr th {\n",
       "        vertical-align: top;\n",
       "    }\n",
       "\n",
       "    .dataframe thead th {\n",
       "        text-align: right;\n",
       "    }\n",
       "</style>\n",
       "<table border=\"1\" class=\"dataframe\">\n",
       "  <thead>\n",
       "    <tr style=\"text-align: right;\">\n",
       "      <th></th>\n",
       "      <th>Deaths</th>\n",
       "    </tr>\n",
       "  </thead>\n",
       "  <tbody>\n",
       "    <tr>\n",
       "      <th>count</th>\n",
       "      <td>8.000000</td>\n",
       "    </tr>\n",
       "    <tr>\n",
       "      <th>mean</th>\n",
       "      <td>6561.250000</td>\n",
       "    </tr>\n",
       "    <tr>\n",
       "      <th>std</th>\n",
       "      <td>56.256428</td>\n",
       "    </tr>\n",
       "    <tr>\n",
       "      <th>min</th>\n",
       "      <td>6471.000000</td>\n",
       "    </tr>\n",
       "    <tr>\n",
       "      <th>25%</th>\n",
       "      <td>6527.000000</td>\n",
       "    </tr>\n",
       "    <tr>\n",
       "      <th>50%</th>\n",
       "      <td>6575.500000</td>\n",
       "    </tr>\n",
       "    <tr>\n",
       "      <th>75%</th>\n",
       "      <td>6600.500000</td>\n",
       "    </tr>\n",
       "    <tr>\n",
       "      <th>max</th>\n",
       "      <td>6634.000000</td>\n",
       "    </tr>\n",
       "  </tbody>\n",
       "</table>\n",
       "</div>"
      ],
      "text/plain": [
       "            Deaths\n",
       "count     8.000000\n",
       "mean   6561.250000\n",
       "std      56.256428\n",
       "min    6471.000000\n",
       "25%    6527.000000\n",
       "50%    6575.500000\n",
       "75%    6600.500000\n",
       "max    6634.000000"
      ]
     },
     "execution_count": 23,
     "metadata": {},
     "output_type": "execute_result"
    }
   ],
   "source": [
    "grouped_mrace.describe()"
   ]
  },
  {
   "cell_type": "markdown",
   "metadata": {},
   "source": [
    "#### To my surprise, there hasn't been much change. From the stats, females have a slightly greater mean than males. Females also have almost double the standard deviation. "
   ]
  },
  {
   "cell_type": "code",
   "execution_count": null,
   "metadata": {},
   "outputs": [],
   "source": []
  }
 ],
 "metadata": {
  "kernelspec": {
   "display_name": "Python 3",
   "language": "python",
   "name": "python3"
  },
  "language_info": {
   "codemirror_mode": {
    "name": "ipython",
    "version": 3
   },
   "file_extension": ".py",
   "mimetype": "text/x-python",
   "name": "python",
   "nbconvert_exporter": "python",
   "pygments_lexer": "ipython3",
   "version": "3.6.0"
  }
 },
 "nbformat": 4,
 "nbformat_minor": 2
}
